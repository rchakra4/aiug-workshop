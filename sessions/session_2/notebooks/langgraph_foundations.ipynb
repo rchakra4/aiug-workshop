{
 "cells": [
  {
   "cell_type": "markdown",
   "metadata": {},
   "source": [
    "### Tools"
   ]
  },
  {
   "cell_type": "code",
   "execution_count": 1,
   "metadata": {},
   "outputs": [
    {
     "name": "stdout",
     "output_type": "stream",
     "text": [
      "Requirement already satisfied: langchain-community in /Users/rickchakra/Projects/aiug_workshop/venv_new/lib/python3.9/site-packages (0.2.7)\n",
      "Collecting langchain-community\n",
      "  Downloading langchain_community-0.2.9-py3-none-any.whl.metadata (2.5 kB)\n",
      "Requirement already satisfied: langgraph in /Users/rickchakra/Projects/aiug_workshop/venv_new/lib/python3.9/site-packages (0.1.8)\n",
      "Collecting langgraph\n",
      "  Downloading langgraph-0.1.9-py3-none-any.whl.metadata (13 kB)\n",
      "Requirement already satisfied: langchain-openai in /Users/rickchakra/Projects/aiug_workshop/venv_new/lib/python3.9/site-packages (0.1.17)\n",
      "Requirement already satisfied: tavily-python in /Users/rickchakra/Projects/aiug_workshop/venv_new/lib/python3.9/site-packages (0.3.5)\n",
      "Requirement already satisfied: PyYAML>=5.3 in /Users/rickchakra/Projects/aiug_workshop/venv_new/lib/python3.9/site-packages (from langchain-community) (6.0.1)\n",
      "Requirement already satisfied: SQLAlchemy<3,>=1.4 in /Users/rickchakra/Projects/aiug_workshop/venv_new/lib/python3.9/site-packages (from langchain-community) (2.0.31)\n",
      "Requirement already satisfied: aiohttp<4.0.0,>=3.8.3 in /Users/rickchakra/Projects/aiug_workshop/venv_new/lib/python3.9/site-packages (from langchain-community) (3.9.5)\n",
      "Requirement already satisfied: dataclasses-json<0.7,>=0.5.7 in /Users/rickchakra/Projects/aiug_workshop/venv_new/lib/python3.9/site-packages (from langchain-community) (0.6.7)\n",
      "Requirement already satisfied: langchain<0.3.0,>=0.2.9 in /Users/rickchakra/Projects/aiug_workshop/venv_new/lib/python3.9/site-packages (from langchain-community) (0.2.9)\n",
      "Collecting langchain-core<0.3.0,>=0.2.22 (from langchain-community)\n",
      "  Downloading langchain_core-0.2.22-py3-none-any.whl.metadata (6.0 kB)\n",
      "Requirement already satisfied: langsmith<0.2.0,>=0.1.0 in /Users/rickchakra/Projects/aiug_workshop/venv_new/lib/python3.9/site-packages (from langchain-community) (0.1.90)\n",
      "Requirement already satisfied: numpy<2,>=1 in /Users/rickchakra/Projects/aiug_workshop/venv_new/lib/python3.9/site-packages (from langchain-community) (1.26.4)\n",
      "Requirement already satisfied: requests<3,>=2 in /Users/rickchakra/Projects/aiug_workshop/venv_new/lib/python3.9/site-packages (from langchain-community) (2.32.3)\n",
      "Requirement already satisfied: tenacity!=8.4.0,<9.0.0,>=8.1.0 in /Users/rickchakra/Projects/aiug_workshop/venv_new/lib/python3.9/site-packages (from langchain-community) (8.5.0)\n",
      "Requirement already satisfied: openai<2.0.0,>=1.32.0 in /Users/rickchakra/Projects/aiug_workshop/venv_new/lib/python3.9/site-packages (from langchain-openai) (1.35.14)\n",
      "Requirement already satisfied: tiktoken<1,>=0.7 in /Users/rickchakra/Projects/aiug_workshop/venv_new/lib/python3.9/site-packages (from langchain-openai) (0.7.0)\n",
      "Requirement already satisfied: httpx in /Users/rickchakra/Projects/aiug_workshop/venv_new/lib/python3.9/site-packages (from tavily-python) (0.27.0)\n",
      "Requirement already satisfied: aiosignal>=1.1.2 in /Users/rickchakra/Projects/aiug_workshop/venv_new/lib/python3.9/site-packages (from aiohttp<4.0.0,>=3.8.3->langchain-community) (1.3.1)\n",
      "Requirement already satisfied: attrs>=17.3.0 in /Users/rickchakra/Projects/aiug_workshop/venv_new/lib/python3.9/site-packages (from aiohttp<4.0.0,>=3.8.3->langchain-community) (23.2.0)\n",
      "Requirement already satisfied: frozenlist>=1.1.1 in /Users/rickchakra/Projects/aiug_workshop/venv_new/lib/python3.9/site-packages (from aiohttp<4.0.0,>=3.8.3->langchain-community) (1.4.1)\n",
      "Requirement already satisfied: multidict<7.0,>=4.5 in /Users/rickchakra/Projects/aiug_workshop/venv_new/lib/python3.9/site-packages (from aiohttp<4.0.0,>=3.8.3->langchain-community) (6.0.5)\n",
      "Requirement already satisfied: yarl<2.0,>=1.0 in /Users/rickchakra/Projects/aiug_workshop/venv_new/lib/python3.9/site-packages (from aiohttp<4.0.0,>=3.8.3->langchain-community) (1.9.4)\n",
      "Requirement already satisfied: async-timeout<5.0,>=4.0 in /Users/rickchakra/Projects/aiug_workshop/venv_new/lib/python3.9/site-packages (from aiohttp<4.0.0,>=3.8.3->langchain-community) (4.0.3)\n",
      "Requirement already satisfied: marshmallow<4.0.0,>=3.18.0 in /Users/rickchakra/Projects/aiug_workshop/venv_new/lib/python3.9/site-packages (from dataclasses-json<0.7,>=0.5.7->langchain-community) (3.21.3)\n",
      "Requirement already satisfied: typing-inspect<1,>=0.4.0 in /Users/rickchakra/Projects/aiug_workshop/venv_new/lib/python3.9/site-packages (from dataclasses-json<0.7,>=0.5.7->langchain-community) (0.9.0)\n",
      "Requirement already satisfied: langchain-text-splitters<0.3.0,>=0.2.0 in /Users/rickchakra/Projects/aiug_workshop/venv_new/lib/python3.9/site-packages (from langchain<0.3.0,>=0.2.9->langchain-community) (0.2.2)\n",
      "Requirement already satisfied: pydantic<3,>=1 in /Users/rickchakra/Projects/aiug_workshop/venv_new/lib/python3.9/site-packages (from langchain<0.3.0,>=0.2.9->langchain-community) (2.8.2)\n",
      "Requirement already satisfied: jsonpatch<2.0,>=1.33 in /Users/rickchakra/Projects/aiug_workshop/venv_new/lib/python3.9/site-packages (from langchain-core<0.3.0,>=0.2.22->langchain-community) (1.33)\n",
      "Requirement already satisfied: packaging<25,>=23.2 in /Users/rickchakra/Projects/aiug_workshop/venv_new/lib/python3.9/site-packages (from langchain-core<0.3.0,>=0.2.22->langchain-community) (24.1)\n",
      "Requirement already satisfied: orjson<4.0.0,>=3.9.14 in /Users/rickchakra/Projects/aiug_workshop/venv_new/lib/python3.9/site-packages (from langsmith<0.2.0,>=0.1.0->langchain-community) (3.10.6)\n",
      "Requirement already satisfied: anyio<5,>=3.5.0 in /Users/rickchakra/Projects/aiug_workshop/venv_new/lib/python3.9/site-packages (from openai<2.0.0,>=1.32.0->langchain-openai) (4.4.0)\n",
      "Requirement already satisfied: distro<2,>=1.7.0 in /Users/rickchakra/Projects/aiug_workshop/venv_new/lib/python3.9/site-packages (from openai<2.0.0,>=1.32.0->langchain-openai) (1.9.0)\n",
      "Requirement already satisfied: sniffio in /Users/rickchakra/Projects/aiug_workshop/venv_new/lib/python3.9/site-packages (from openai<2.0.0,>=1.32.0->langchain-openai) (1.3.1)\n",
      "Requirement already satisfied: tqdm>4 in /Users/rickchakra/Projects/aiug_workshop/venv_new/lib/python3.9/site-packages (from openai<2.0.0,>=1.32.0->langchain-openai) (4.66.4)\n",
      "Requirement already satisfied: typing-extensions<5,>=4.7 in /Users/rickchakra/Projects/aiug_workshop/venv_new/lib/python3.9/site-packages (from openai<2.0.0,>=1.32.0->langchain-openai) (4.12.2)\n",
      "Requirement already satisfied: certifi in /Users/rickchakra/Projects/aiug_workshop/venv_new/lib/python3.9/site-packages (from httpx->tavily-python) (2024.7.4)\n",
      "Requirement already satisfied: httpcore==1.* in /Users/rickchakra/Projects/aiug_workshop/venv_new/lib/python3.9/site-packages (from httpx->tavily-python) (1.0.5)\n",
      "Requirement already satisfied: idna in /Users/rickchakra/Projects/aiug_workshop/venv_new/lib/python3.9/site-packages (from httpx->tavily-python) (3.7)\n",
      "Requirement already satisfied: h11<0.15,>=0.13 in /Users/rickchakra/Projects/aiug_workshop/venv_new/lib/python3.9/site-packages (from httpcore==1.*->httpx->tavily-python) (0.14.0)\n",
      "Requirement already satisfied: charset-normalizer<4,>=2 in /Users/rickchakra/Projects/aiug_workshop/venv_new/lib/python3.9/site-packages (from requests<3,>=2->langchain-community) (3.3.2)\n",
      "Requirement already satisfied: urllib3<3,>=1.21.1 in /Users/rickchakra/Projects/aiug_workshop/venv_new/lib/python3.9/site-packages (from requests<3,>=2->langchain-community) (2.2.2)\n",
      "Requirement already satisfied: regex>=2022.1.18 in /Users/rickchakra/Projects/aiug_workshop/venv_new/lib/python3.9/site-packages (from tiktoken<1,>=0.7->langchain-openai) (2024.5.15)\n",
      "Requirement already satisfied: exceptiongroup>=1.0.2 in /Users/rickchakra/Projects/aiug_workshop/venv_new/lib/python3.9/site-packages (from anyio<5,>=3.5.0->openai<2.0.0,>=1.32.0->langchain-openai) (1.2.2)\n",
      "Requirement already satisfied: jsonpointer>=1.9 in /Users/rickchakra/Projects/aiug_workshop/venv_new/lib/python3.9/site-packages (from jsonpatch<2.0,>=1.33->langchain-core<0.3.0,>=0.2.22->langchain-community) (3.0.0)\n",
      "Requirement already satisfied: annotated-types>=0.4.0 in /Users/rickchakra/Projects/aiug_workshop/venv_new/lib/python3.9/site-packages (from pydantic<3,>=1->langchain<0.3.0,>=0.2.9->langchain-community) (0.7.0)\n",
      "Requirement already satisfied: pydantic-core==2.20.1 in /Users/rickchakra/Projects/aiug_workshop/venv_new/lib/python3.9/site-packages (from pydantic<3,>=1->langchain<0.3.0,>=0.2.9->langchain-community) (2.20.1)\n",
      "Requirement already satisfied: mypy-extensions>=0.3.0 in /Users/rickchakra/Projects/aiug_workshop/venv_new/lib/python3.9/site-packages (from typing-inspect<1,>=0.4.0->dataclasses-json<0.7,>=0.5.7->langchain-community) (1.0.0)\n",
      "Downloading langchain_community-0.2.9-py3-none-any.whl (2.3 MB)\n",
      "\u001b[2K   \u001b[90m━━━━━━━━━━━━━━━━━━━━━━━━━━━━━━━━━━━━━━━━\u001b[0m \u001b[32m2.3/2.3 MB\u001b[0m \u001b[31m9.3 MB/s\u001b[0m eta \u001b[36m0:00:00\u001b[0mta \u001b[36m0:00:01\u001b[0m\n",
      "\u001b[?25hDownloading langgraph-0.1.9-py3-none-any.whl (95 kB)\n",
      "\u001b[2K   \u001b[90m━━━━━━━━━━━━━━━━━━━━━━━━━━━━━━━━━━━━━━━━\u001b[0m \u001b[32m96.0/96.0 kB\u001b[0m \u001b[31m6.3 MB/s\u001b[0m eta \u001b[36m0:00:00\u001b[0m\n",
      "\u001b[?25hDownloading langchain_core-0.2.22-py3-none-any.whl (373 kB)\n",
      "\u001b[2K   \u001b[90m━━━━━━━━━━━━━━━━━━━━━━━━━━━━━━━━━━━━━━━━\u001b[0m \u001b[32m373.5/373.5 kB\u001b[0m \u001b[31m8.7 MB/s\u001b[0m eta \u001b[36m0:00:00\u001b[0mta \u001b[36m0:00:01\u001b[0m\n",
      "\u001b[?25hInstalling collected packages: langchain-core, langgraph, langchain-community\n",
      "  Attempting uninstall: langchain-core\n",
      "    Found existing installation: langchain-core 0.2.21\n",
      "    Uninstalling langchain-core-0.2.21:\n",
      "      Successfully uninstalled langchain-core-0.2.21\n",
      "  Attempting uninstall: langgraph\n",
      "    Found existing installation: langgraph 0.1.8\n",
      "    Uninstalling langgraph-0.1.8:\n",
      "      Successfully uninstalled langgraph-0.1.8\n",
      "  Attempting uninstall: langchain-community\n",
      "    Found existing installation: langchain-community 0.2.7\n",
      "    Uninstalling langchain-community-0.2.7:\n",
      "      Successfully uninstalled langchain-community-0.2.7\n",
      "Successfully installed langchain-community-0.2.9 langchain-core-0.2.22 langgraph-0.1.9\n",
      "Note: you may need to restart the kernel to use updated packages.\n"
     ]
    }
   ],
   "source": [
    "#%pip install -U langchain-community langgraph langchain-openai tavily-python"
   ]
  },
  {
   "cell_type": "code",
   "execution_count": 17,
   "metadata": {},
   "outputs": [],
   "source": [
    "import getpass\n",
    "import os\n",
    "\n",
    "# os.environ[\"LANGCHAIN_TRACING_V2\"] = \"true\"\n",
    "# os.environ[\"LANGCHAIN_API_KEY\"] = getpass.getpass()"
   ]
  },
  {
   "cell_type": "code",
   "execution_count": 1,
   "metadata": {},
   "outputs": [],
   "source": [
    "import getpass\n",
    "import os\n",
    "\n",
    "# os.environ[\"TAVILY_API_KEY\"] = getpass.getpass()"
   ]
  },
  {
   "cell_type": "code",
   "execution_count": 2,
   "metadata": {},
   "outputs": [
    {
     "name": "stderr",
     "output_type": "stream",
     "text": [
      "/Users/rickchakra/Projects/aiug_workshop/venv/lib/python3.9/site-packages/urllib3/__init__.py:35: NotOpenSSLWarning: urllib3 v2 only supports OpenSSL 1.1.1+, currently the 'ssl' module is compiled with 'LibreSSL 2.8.3'. See: https://github.com/urllib3/urllib3/issues/3020\n",
      "  warnings.warn(\n"
     ]
    },
    {
     "name": "stdout",
     "output_type": "stream",
     "text": [
      "[{'url': 'https://www.weatherapi.com/', 'content': \"{'location': {'name': 'Los Angeles', 'region': 'California', 'country': 'United States of America', 'lat': 34.05, 'lon': -118.24, 'tz_id': 'America/Los_Angeles', 'localtime_epoch': 1723598355, 'localtime': '2024-08-13 18:19'}, 'current': {'last_updated_epoch': 1723598100, 'last_updated': '2024-08-13 18:15', 'temp_c': 24.4, 'temp_f': 75.9, 'is_day': 1, 'condition': {'text': 'Sunny', 'icon': '//cdn.weatherapi.com/weather/64x64/day/113.png', 'code': 1000}, 'wind_mph': 12.5, 'wind_kph': 20.2, 'wind_degree': 260, 'wind_dir': 'W', 'pressure_mb': 1013.0, 'pressure_in': 29.9, 'precip_mm': 0.0, 'precip_in': 0.0, 'humidity': 64, 'cloud': 0, 'feelslike_c': 25.3, 'feelslike_f': 77.5, 'windchill_c': 27.6, 'windchill_f': 81.6, 'heatindex_c': 27.9, 'heatindex_f': 82.2, 'dewpoint_c': 14.9, 'dewpoint_f': 58.8, 'vis_km': 16.0, 'vis_miles': 9.0, 'uv': 7.0, 'gust_mph': 17.0, 'gust_kph': 27.4}}\"}, {'url': 'https://www.timeanddate.com/weather/@z-us-90023/ext', 'content': 'Los Angeles 14 Day Extended Forecast. Weather Today Weather Hourly 14 Day Forecast Yesterday/Past Weather Climate (Averages) Currently: 70 °F. Scattered clouds. (Weather station: Los Angeles Los Angeles International Airport, USA). See more current weather.'}]\n"
     ]
    }
   ],
   "source": [
    "from langchain_community.tools.tavily_search import TavilySearchResults\n",
    "\n",
    "# define search tool\n",
    "\n",
    "search = TavilySearchResults(max_results=2)\n",
    "search_results = search.invoke(\"what is the weather in Los Angeles\")\n",
    "print(search_results)\n",
    "# If we want, we can create other tools.\n",
    "# Once we have all the tools we want, we can put them in a list that we will reference later.\n",
    "tools = [search]"
   ]
  },
  {
   "cell_type": "markdown",
   "metadata": {},
   "source": [
    "### Bind model with tools"
   ]
  },
  {
   "cell_type": "code",
   "execution_count": 5,
   "metadata": {},
   "outputs": [
    {
     "name": "stdout",
     "output_type": "stream",
     "text": [
      "Note: you may need to restart the kernel to use updated packages.\n"
     ]
    }
   ],
   "source": [
    "#pip install -qU langchain-openai"
   ]
  },
  {
   "cell_type": "code",
   "execution_count": 7,
   "metadata": {},
   "outputs": [],
   "source": [
    "import getpass\n",
    "import os\n",
    "\n",
    "# os.environ[\"OPENAI_API_KEY\"] = getpass.getpass()\n",
    "\n",
    "from langchain_openai import ChatOpenAI\n",
    "\n",
    "# initialize model\n",
    "model = ChatOpenAI(model=\"gpt-4o\")"
   ]
  },
  {
   "cell_type": "code",
   "execution_count": 8,
   "metadata": {},
   "outputs": [
    {
     "data": {
      "text/plain": [
       "'Hello! How can I assist you today?'"
      ]
     },
     "execution_count": 8,
     "metadata": {},
     "output_type": "execute_result"
    }
   ],
   "source": [
    "from langchain_core.messages import HumanMessage\n",
    "\n",
    "response = model.invoke([HumanMessage(content=\"hi!\")])\n",
    "response.content"
   ]
  },
  {
   "cell_type": "code",
   "execution_count": 9,
   "metadata": {},
   "outputs": [],
   "source": [
    "# bind tools with model\n",
    "model_with_tools = model.bind_tools(tools)"
   ]
  },
  {
   "cell_type": "code",
   "execution_count": 10,
   "metadata": {},
   "outputs": [
    {
     "name": "stdout",
     "output_type": "stream",
     "text": [
      "ContentString: Hello! How can I assist you today?\n",
      "ToolCalls: []\n"
     ]
    }
   ],
   "source": [
    "# check response of model with search tool (no tool call)\n",
    "response = model_with_tools.invoke([HumanMessage(content=\"Hi!\")])\n",
    "\n",
    "print(f\"ContentString: {response.content}\")\n",
    "print(f\"ToolCalls: {response.tool_calls}\")"
   ]
  },
  {
   "cell_type": "code",
   "execution_count": 11,
   "metadata": {},
   "outputs": [
    {
     "name": "stdout",
     "output_type": "stream",
     "text": [
      "ContentString: \n",
      "ToolCalls: [{'name': 'tavily_search_results_json', 'args': {'query': 'current weather in San Francisco'}, 'id': 'call_fuPykTFGJw5N3uu9f9QFtPCW', 'type': 'tool_call'}]\n"
     ]
    }
   ],
   "source": [
    "# check response of model with search tool (tool call)\n",
    "response = model_with_tools.invoke([HumanMessage(content=\"What's the weather in San Francisco?\")])\n",
    "\n",
    "print(f\"ContentString: {response.content}\")\n",
    "print(f\"ToolCalls: {response.tool_calls}\")"
   ]
  },
  {
   "cell_type": "markdown",
   "metadata": {},
   "source": [
    "### Using a prebuilt react agent with tools"
   ]
  },
  {
   "cell_type": "code",
   "execution_count": 12,
   "metadata": {},
   "outputs": [],
   "source": [
    "from langgraph.prebuilt import create_react_agent\n",
    "\n",
    "#use prebuilt ReAct agent\n",
    "agent_executor = create_react_agent(model, tools)"
   ]
  },
  {
   "cell_type": "code",
   "execution_count": 13,
   "metadata": {},
   "outputs": [
    {
     "data": {
      "text/plain": [
       "[HumanMessage(content='hi!', id='d6b509d9-0fff-488f-ad35-68f9737be000'),\n",
       " AIMessage(content='Hello! How can I assist you today?', response_metadata={'token_usage': {'completion_tokens': 10, 'prompt_tokens': 81, 'total_tokens': 91}, 'model_name': 'gpt-4o-2024-05-13', 'system_fingerprint': 'fp_3aa7262c27', 'finish_reason': 'stop', 'logprobs': None}, id='run-484c1aa0-12bc-4bec-a625-d6d39cc85309-0', usage_metadata={'input_tokens': 81, 'output_tokens': 10, 'total_tokens': 91})]"
      ]
     },
     "execution_count": 13,
     "metadata": {},
     "output_type": "execute_result"
    }
   ],
   "source": [
    "# test agent response (no tool call)\n",
    "response = agent_executor.invoke({\"messages\": [HumanMessage(content=\"hi!\")]})\n",
    "\n",
    "response[\"messages\"]"
   ]
  },
  {
   "cell_type": "code",
   "execution_count": 16,
   "metadata": {},
   "outputs": [
    {
     "data": {
      "text/plain": [
       "[HumanMessage(content=\"What's the weather in San Francisco and if it's not raining, are there any event happening today (August 13 2024)?\", id='5c7f63c3-51cc-452d-94ab-909d76bf3e55'),\n",
       " AIMessage(content='', additional_kwargs={'tool_calls': [{'id': 'call_fiDFOmz7sxzYZmOm08pP10FO', 'function': {'arguments': '{\"query\": \"San Francisco weather August 13 2024\"}', 'name': 'tavily_search_results_json'}, 'type': 'function'}, {'id': 'call_ATSF9Y33SBJbW7jqpzOL9t4x', 'function': {'arguments': '{\"query\": \"Events in San Francisco August 13 2024\"}', 'name': 'tavily_search_results_json'}, 'type': 'function'}]}, response_metadata={'token_usage': {'completion_tokens': 69, 'prompt_tokens': 105, 'total_tokens': 174}, 'model_name': 'gpt-4o-2024-05-13', 'system_fingerprint': 'fp_3aa7262c27', 'finish_reason': 'tool_calls', 'logprobs': None}, id='run-c44d3455-2ad9-4884-96ac-04d862e2e0f0-0', tool_calls=[{'name': 'tavily_search_results_json', 'args': {'query': 'San Francisco weather August 13 2024'}, 'id': 'call_fiDFOmz7sxzYZmOm08pP10FO', 'type': 'tool_call'}, {'name': 'tavily_search_results_json', 'args': {'query': 'Events in San Francisco August 13 2024'}, 'id': 'call_ATSF9Y33SBJbW7jqpzOL9t4x', 'type': 'tool_call'}], usage_metadata={'input_tokens': 105, 'output_tokens': 69, 'total_tokens': 174}),\n",
       " ToolMessage(content='[{\"url\": \"https://www.weatherapi.com/\", \"content\": \"{\\'location\\': {\\'name\\': \\'San Francisco\\', \\'region\\': \\'California\\', \\'country\\': \\'United States of America\\', \\'lat\\': 37.78, \\'lon\\': -122.42, \\'tz_id\\': \\'America/Los_Angeles\\', \\'localtime_epoch\\': 1723599534, \\'localtime\\': \\'2024-08-13 18:38\\'}, \\'current\\': {\\'last_updated_epoch\\': 1723599000, \\'last_updated\\': \\'2024-08-13 18:30\\', \\'temp_c\\': 20.6, \\'temp_f\\': 69.1, \\'is_day\\': 1, \\'condition\\': {\\'text\\': \\'Partly cloudy\\', \\'icon\\': \\'//cdn.weatherapi.com/weather/64x64/day/116.png\\', \\'code\\': 1003}, \\'wind_mph\\': 15.0, \\'wind_kph\\': 24.1, \\'wind_degree\\': 270, \\'wind_dir\\': \\'W\\', \\'pressure_mb\\': 1015.0, \\'pressure_in\\': 29.98, \\'precip_mm\\': 0.0, \\'precip_in\\': 0.0, \\'humidity\\': 59, \\'cloud\\': 25, \\'feelslike_c\\': 20.6, \\'feelslike_f\\': 69.1, \\'windchill_c\\': 16.7, \\'windchill_f\\': 62.0, \\'heatindex_c\\': 16.7, \\'heatindex_f\\': 62.0, \\'dewpoint_c\\': 11.7, \\'dewpoint_f\\': 53.1, \\'vis_km\\': 16.0, \\'vis_miles\\': 9.0, \\'uv\\': 5.0, \\'gust_mph\\': 18.9, \\'gust_kph\\': 30.3}}\"}, {\"url\": \"https://world-weather.info/forecast/usa/san_francisco/august-2024/\", \"content\": \"Detailed \\\\u26a1 San Francisco Weather Forecast for August 2024 - day/night \\\\ud83c\\\\udf21\\\\ufe0f temperatures, precipitations - World-Weather.info. Add the current city. Search. Weather; Archive; Widgets \\\\u00b0F. World; United States; California; Weather in San Francisco; Weather in San Francisco in August 2024. ... 13 +64\\\\u00b0 +54\\\\u00b0 14 +64\\\\u00b0 +55\\\\u00b0 15 ...\"}]', name='tavily_search_results_json', id='566b63a2-b67b-43b3-87b5-40cd0a7979a6', tool_call_id='call_fiDFOmz7sxzYZmOm08pP10FO'),\n",
       " ToolMessage(content='[{\"url\": \"https://allevents.in/san francisco/august\", \"content\": \"August Events In San Francisco\\\\nThings To Do In August 2024 in San Francisco\\\\nEvents in August in \\\\t\\\\t\\\\t\\\\t\\\\t\\\\t\\\\tSan Francisco\\\\nEvents in August in \\\\t\\\\t\\\\t\\\\t\\\\t\\\\t\\\\t\\\\t\\\\t\\\\tSan Francisco\\\\nDance Fridays -\\\\nSalsa, Bachata, Dance Lessons, Bay Area\\'s Largest Dance Club\\\\nSave or Fix your Marriage in San Francisco\\\\nDetroit Tigers at San Francisco Giants\\\\nAtlanta Braves at San Francisco Giants\\\\nChicago White Sox at San Francisco Giants\\\\nSebastian Maniscalco: It Ain\\'t Right Tour\\\\nAfter Dark: Visualize and Sonify\\\\nGrant Writing Classes In San Francisco | Grant Central USA\\\\nFriday Founder\\'s Meet Up\\\\nOlivia Rodrigo - San Francisco, CA\\\\nRiptide Comedy & Cocktails: Thursday Comedy in the Sunset\\\\n\\\\\"Still We Rise\\\\\" African Inspired\\\\nFashion Gala\\\\nYOUTH-N-TECH TECH EXPO\\\\n2024 Summer Finance Training for School and Districts Leaders\\\\nOlivia Rodrigo - GUTS world tour\\\\nEvents in August from nearby cities\\\\nTrending Events from nearby cities\\\\nUpcoming Events in August in San Francisco\\\\n Site Navigation\\\\nTrending Searches\\\\nHost Events\\\\nDiscover Events\\\\nExplore\\\\n#StayHappening\\\\nUpcoming Events in San Francisco Explore more in San Francisco\\\\nEvents in August from nearby cities\\\\n{{item.eventname_raw}}\\\\n{{item.eventname_raw}}\\\\n{{item.eventname_raw}}\\\\nStay tuned with the most relevant events happening around you. We\\'ll recommend events that you would not want to miss!\\\\n Don\\'t miss your favorite Events again.\\\\n\"}, {\"url\": \"https://secretsanfrancisco.com/things-to-do-august/\", \"content\": \"Party it up at Outside Lands 2024. Image courtesy of Outside Lands. August 9-11. Outside Lands is the city\\'s largest music festival and is back for 3 days of music, Aug 9-11 in Golden Gate Park. 2024 headliners include Sabrina Carpenter, The Killer, Sturgill Simpson, Grace Jones, and many more.\"}]', name='tavily_search_results_json', id='a2778685-3cde-4260-8e93-b98164ea58b0', tool_call_id='call_ATSF9Y33SBJbW7jqpzOL9t4x'),\n",
       " AIMessage(content='### Weather in San Francisco on August 13, 2024\\n- **Condition:** Partly cloudy\\n- **Temperature:** 20.6°C (69.1°F)\\n- **Precipitation:** 0.0 mm (0.0 in)\\n- **Wind:** 15.0 mph (24.1 kph) from the West\\n- **Humidity:** 59%\\n- **Visibility:** 16 km (9 miles)\\n  \\nIt is not raining today.\\n\\n### Events Happening in San Francisco on August 13, 2024\\n\\nHere are some events you can enjoy in San Francisco today:\\n\\n1. **Dance Fridays**\\n   - Salsa and Bachata Dance Lessons at Bay Area\\'s Largest Dance Club\\n\\n2. **San Francisco Giants Games**\\n   - Detroit Tigers vs. San Francisco Giants\\n   - Atlanta Braves vs. San Francisco Giants\\n   - Chicago White Sox vs. San Francisco Giants\\n\\n3. **Comedy Shows**\\n   - Riptide Comedy & Cocktails: Thursday Comedy in the Sunset\\n\\n4. **Concerts**\\n   - Olivia Rodrigo\\'s GUTS World Tour\\n\\n5. **Cultural Events**\\n   - \"Still We Rise\" African Inspired Fashion Gala\\n\\n6. **Educational Events**\\n   - Grant Writing Classes by Grant Central USA\\n   - Youth-N-Tech Tech Expo\\n   - Summer Finance Training for School and District Leaders\\n\\n7. **Meetups**\\n   - Friday Founder\\'s Meet Up\\n\\nEnjoy your day in San Francisco!', response_metadata={'token_usage': {'completion_tokens': 303, 'prompt_tokens': 1172, 'total_tokens': 1475}, 'model_name': 'gpt-4o-2024-05-13', 'system_fingerprint': 'fp_3aa7262c27', 'finish_reason': 'stop', 'logprobs': None}, id='run-0f172b67-d502-46cf-9683-17a269e4f61a-0', usage_metadata={'input_tokens': 1172, 'output_tokens': 303, 'total_tokens': 1475})]"
      ]
     },
     "execution_count": 16,
     "metadata": {},
     "output_type": "execute_result"
    }
   ],
   "source": [
    "# test agent response (tool call)\n",
    "response = agent_executor.invoke(\n",
    "    {\"messages\": [HumanMessage(content=\"What's the weather in San Francisco and if it's not raining, are there any event happening today (August 13 2024)?\")]}\n",
    ")\n",
    "response[\"messages\"]"
   ]
  }
 ],
 "metadata": {
  "kernelspec": {
   "display_name": "venv",
   "language": "python",
   "name": "python3"
  },
  "language_info": {
   "codemirror_mode": {
    "name": "ipython",
    "version": 3
   },
   "file_extension": ".py",
   "mimetype": "text/x-python",
   "name": "python",
   "nbconvert_exporter": "python",
   "pygments_lexer": "ipython3",
   "version": "3.9.6"
  }
 },
 "nbformat": 4,
 "nbformat_minor": 2
}
