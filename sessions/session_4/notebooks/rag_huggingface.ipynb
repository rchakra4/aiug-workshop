{
 "cells": [
  {
   "cell_type": "code",
   "execution_count": null,
   "metadata": {},
   "outputs": [],
   "source": [
    "# !pip install -q torch transformers accelerate transformers sentence-transformers faiss-cpu"
   ]
  },
  {
   "cell_type": "code",
   "execution_count": null,
   "metadata": {},
   "outputs": [],
   "source": [
    "# !pip install -q langchain langchain-community"
   ]
  },
  {
   "cell_type": "code",
   "execution_count": 1,
   "metadata": {},
   "outputs": [
    {
     "name": "stderr",
     "output_type": "stream",
     "text": [
      "/Users/rickchakra/Projects/aiug_workshop/venv/lib/python3.9/site-packages/urllib3/__init__.py:35: NotOpenSSLWarning: urllib3 v2 only supports OpenSSL 1.1.1+, currently the 'ssl' module is compiled with 'LibreSSL 2.8.3'. See: https://github.com/urllib3/urllib3/issues/3020\n",
      "  warnings.warn(\n",
      "Ignoring wrong pointing object 6 0 (offset 0)\n",
      "Ignoring wrong pointing object 8 0 (offset 0)\n",
      "Ignoring wrong pointing object 11 0 (offset 0)\n",
      "Ignoring wrong pointing object 29 0 (offset 0)\n",
      "Ignoring wrong pointing object 6 0 (offset 0)\n",
      "Ignoring wrong pointing object 8 0 (offset 0)\n",
      "Ignoring wrong pointing object 11 0 (offset 0)\n",
      "Ignoring wrong pointing object 29 0 (offset 0)\n",
      "Ignoring wrong pointing object 6 0 (offset 0)\n",
      "Ignoring wrong pointing object 8 0 (offset 0)\n",
      "Ignoring wrong pointing object 11 0 (offset 0)\n",
      "Ignoring wrong pointing object 29 0 (offset 0)\n",
      "Ignoring wrong pointing object 6 0 (offset 0)\n",
      "Ignoring wrong pointing object 8 0 (offset 0)\n",
      "Ignoring wrong pointing object 11 0 (offset 0)\n",
      "Ignoring wrong pointing object 30 0 (offset 0)\n",
      "Ignoring wrong pointing object 6 0 (offset 0)\n",
      "Ignoring wrong pointing object 8 0 (offset 0)\n",
      "Ignoring wrong pointing object 11 0 (offset 0)\n",
      "Ignoring wrong pointing object 29 0 (offset 0)\n"
     ]
    },
    {
     "data": {
      "text/plain": [
       "[Document(metadata={'source': '../pdfs/paleo_internal_plan.pdf', 'page': 0}, page_content='Paleo Diet Nutrition Plan The Paleo diet is beneficial for: • Weight loss: Promotes lean body mass and reduces body fat • Improved insulin sensitivity: May help manage or prevent type 2 diabetes • Reduced inflammation: Can alleviate symptoms of autoimmune diseases • Better digestion: Eliminates common gut irritants • Increased nutrient density: Focuses on whole, nutrient-rich foods • Improved energy levels: Stable blood sugar leads to consistent energy • Better sleep: May improve sleep quality due to reduced inflammation This diet is ideal for: • Individuals looking to lose weight or maintain a healthy weight • People with autoimmune conditions or inflammatory disorders • Those seeking to improve overall health and energy levels • Individuals with digestive issues or food sensitivities • People interested in a whole-food based approach to eating • Athletes and fitness enthusiasts looking for performance benefits              '),\n",
       " Document(metadata={'source': '../pdfs/paleo_internal_plan.pdf', 'page': 1}, page_content='Paleo Breakfast Options:  a) Paleo breakfast bowl: • 2 eggs, fried or poached • 1/4 avocado, sliced • 1/2 cup sautéed mixed vegetables (spinach, mushrooms, bell peppers) • 2 slices of bacon (uncured, no added nitrates) • 1/4 cup berries on the side b) Sweet potato hash: • 1 small sweet potato, diced and roasted • 3 oz ground turkey or chicken, seasoned and cooked • 1/4 cup diced onions • 1/4 cup diced bell peppers • 1 tbsp coconut oil for cooking • Herbs: rosemary, thyme c) Paleo smoothie: • 1 cup unsweetened almond milk • 1/2 banana • 1 tbsp almond butter • 1 scoop paleo-friendly protein powder • 1 cup spinach • 1/2 cup mixed berries • Ice cubes          '),\n",
       " Document(metadata={'source': '../pdfs/paleo_internal_plan.pdf', 'page': 2}, page_content='Paleo Lunch Options:  a) Grilled chicken salad: • 4 oz grilled chicken breast • 2 cups mixed greens • 1/4 cup sliced cucumbers • 1/4 cup cherry tomatoes • 1/4 avocado, diced • 2 tbsp pumpkin seeds • Dressing: 1 tbsp olive oil, 1 tsp lemon juice, herbs b) Tuna lettuce wraps: • 4 oz canned tuna (in water) • 1 tbsp paleo-friendly mayonnaise • 1 tbsp diced celery • 1 tbsp diced red onion • 1 tsp dijon mustard • Serve in 3-4 large lettuce leaves c) Beef and vegetable stir-fry: • 4 oz grass-fed beef strips • 1 cup mixed vegetables (broccoli, carrots, snap peas) • 1 tbsp coconut aminos • 1 tbsp coconut oil for cooking • 1 clove garlic, minced • Serve over cauliflower rice         '),\n",
       " Document(metadata={'source': '../pdfs/paleo_internal_plan.pdf', 'page': 3}, page_content='Paleo Dinner Options:  a) Baked salmon with roasted vegetables: • 5 oz wild-caught salmon fillet • 1 cup mixed roasted vegetables (Brussels sprouts, carrots, parsnips) • 1 tbsp olive oil for roasting • Lemon wedge and fresh dill for garnish b) Grilled steak with sweet potato: • 4 oz grass-fed sirloin steak • 1 small sweet potato, baked • 1 cup steamed broccoli • 1 tbsp ghee (for sweet potato) • Herbs: rosemary, thyme c) Paleo chicken fajita bowl: • 4 oz grilled chicken breast, sliced • 1/2 cup bell peppers and onions, sautéed • 1/4 cup guacamole • 1/4 cup fresh salsa • Serve over 1 cup cauliflower rice • Garnish with cilantro           '),\n",
       " Document(metadata={'source': '../pdfs/paleo_internal_plan.pdf', 'page': 4}, page_content='Paleo Snack Options:  a) Fresh fruit with nuts: • 1 medium apple or pear • 10 almonds or walnuts b) Vegetable sticks with guacamole: • 1 cup mixed vegetable sticks (carrots, cucumbers, bell peppers) • 2 tbsp guacamole c) Hard-boiled eggs: • 2 hard-boiled eggs • Sprinkle of sea salt and pepper d) Beef or turkey jerky: • 1 oz grass-fed beef or turkey jerky (no added sugars or preservatives) e) Paleo energy balls: • 1/4 cup dates • 1/4 cup nuts (almonds or cashews) • 1 tbsp cocoa powder • 1 tbsp coconut oil • Blend and form into 2-3 small balls          '),\n",
       " Document(metadata={'source': '../pdfs/paleo_internal_plan.pdf', 'page': 5}, page_content='Paleo General Guidelines: • Focus on whole, unprocessed foods • Consume plenty of vegetables and moderate amounts of fruit • Include high-quality proteins (grass-fed, free-range, wild-caught) • Use healthy fats like olive oil, coconut oil, avocado, and nuts • Eliminate grains, legumes, dairy, and processed foods • Avoid added sugars and artificial sweeteners • Limit alcohol consumption Paleo Weekly Meal Prep Tips: • Grill or roast a variety of meats for easy protein options • Prepare a large batch of roasted vegetables • Make cauliflower rice for quick side dishes • Hard boil eggs for snacks and salad toppings • Chop vegetables for quick stir-fries or snacks • Prepare homemade salad dressings and sauces Adjusting Portion Sizes: Adjust portion sizes based on individual caloric needs, activity level, and weight management goals. The Paleo diet typically leads to natural portion control due to its focus on nutrient-dense, satiating foods.  Paleo Important Considerations: • The initial transition may be challenging due to the elimination of common food groups • Ensure adequate calcium intake through non-dairy sources like leafy greens and bone broth • Be mindful of potential vitamin D deficiency, especially if limiting sun exposure • Some may need to adjust carbohydrate intake based on activity levels • Consider consulting with a registered dietitian to ensure nutritional needs are met  '),\n",
       " Document(metadata={'source': '../pdfs/glutenfree_internal_plan.pdf', 'page': 0}, page_content='Gluten-Free Diet Nutrition Plan The Gluten-Free diet is beneficial for: • Celiac disease management: Essential for those with celiac disease • Non-celiac gluten sensitivity: Alleviates symptoms in sensitive individuals • Wheat allergy management: Necessary for those with wheat allergies • Digestive health: May improve gut health in some individuals • Reduced inflammation: Can help reduce inflammation in certain cases • Increased energy: Some report improved energy levels • Clearer skin: May help with certain skin conditions in some people This diet is ideal for: • Individuals diagnosed with celiac disease • People with non-celiac gluten sensitivity • Those with wheat allergies • Individuals looking to eliminate gluten for personal health reasons • People with certain autoimmune disorders (under medical supervision) • Those experiencing unexplained digestive issues (after proper medical evaluation)              '),\n",
       " Document(metadata={'source': '../pdfs/glutenfree_internal_plan.pdf', 'page': 1}, page_content='Detailed Meal Plan Gluten-Free Breakfast Options:  a) Gluten-free oatmeal bowl: • 1/2 cup certified gluten-free oats • 1 cup almond milk • 1 tbsp chia seeds • 1/4 cup mixed berries • 1 tbsp almond butter • 1 tsp honey b) Veggie and cheese omelette: • 2 eggs • 1/4 cup mixed vegetables (spinach, bell peppers, tomatoes) • 1 oz shredded cheddar cheese • Serve with 1 slice gluten-free toast c) Smoothie bowl: • Blend: 1 banana, 1/2 cup frozen berries, 1/2 cup Greek yogurt, 1/4 cup almond milk • Top with 2 tbsp gluten-free granola and 1 tbsp pumpkin seeds            '),\n",
       " Document(metadata={'source': '../pdfs/glutenfree_internal_plan.pdf', 'page': 2}, page_content='Gluten-Free Lunch Options:  a) Quinoa salad: • 1/2 cup cooked quinoa • 2 cups mixed greens • 1/4 cup chickpeas • 1/4 avocado, diced • 1/4 cup cherry tomatoes • 2 tbsp feta cheese • Dressing: 1 tbsp olive oil, 1 tsp lemon juice b) Gluten-free wrap: • 1 large gluten-free tortilla • 3 oz grilled chicken breast • 1/4 cup lettuce • 2 tbsp hummus • 1/4 cup sliced cucumbers and tomatoes c) Lentil soup: • 1 cup lentil soup (ensure broth is gluten-free) • Serve with gluten-free crackers • Side salad with mixed greens and vinaigrette           '),\n",
       " Document(metadata={'source': '../pdfs/glutenfree_internal_plan.pdf', 'page': 3}, page_content='Gluten-Free Dinner Options:  a) Grilled salmon with roasted vegetables: • 4 oz grilled salmon • 1 cup mixed roasted vegetables (zucchini, bell peppers, carrots) • 1/2 cup cooked brown rice • 1 tbsp olive oil for cooking b) Gluten-free pasta primavera: • 1 cup cooked gluten-free pasta • 1 cup mixed sautéed vegetables (broccoli, peas, asparagus) • 2 tbsp olive oil • 1 clove garlic, minced • 2 tbsp grated Parmesan cheese c) Stir-fry with rice: • 3 oz chicken or tofu, cubed • 1 cup mixed vegetables (snap peas, carrots, mushrooms) • 1/2 cup cooked brown rice • 1 tbsp gluten-free soy sauce or tamari • 1 tsp sesame oil            '),\n",
       " Document(metadata={'source': '../pdfs/glutenfree_internal_plan.pdf', 'page': 4}, page_content='Gluten-Free Snack Options:  a) Fresh fruit with nuts: • 1 apple or pear • 10 almonds b) Vegetable sticks with hummus: • 1 cup mixed vegetable sticks (carrots, cucumbers, bell peppers) • 2 tbsp hummus c) Greek yogurt parfait: • 1/2 cup Greek yogurt • 1/4 cup mixed berries • 1 tbsp gluten-free granola d) Rice cakes with toppings: • 2 rice cakes • 1 tbsp almond butter • Sliced banana e) Gluten-free energy balls: • 1/4 cup dates • 1/4 cup nuts (almonds or cashews) • 1 tbsp cocoa powder • 1 tbsp coconut oil • Blend and form into 2-3 small balls        '),\n",
       " Document(metadata={'source': '../pdfs/glutenfree_internal_plan.pdf', 'page': 5}, page_content=\"Gluten-Free General Guidelines: • Avoid all sources of gluten (wheat, barley, rye, and contaminated oats) • Read labels carefully to identify hidden sources of gluten • Focus on naturally gluten-free whole foods • Choose certified gluten-free products when buying packaged foods • Be cautious of cross-contamination in food preparation • Ensure balanced nutrition by including a variety of foods • Consider gluten-free whole grains like quinoa, rice, and millet Gluten-Free Weekly Meal Prep Tips: • Cook large batches of gluten-free grains (rice, quinoa) • Prepare gluten-free snacks in advance • Chop vegetables for quick meal assembly • Make homemade gluten-free dressings and sauces • Prepare mason jar salads for easy lunches • Batch cook gluten-free proteins (chicken, tofu) for quick meals Adjusting Portion Sizes: Adjust portion sizes based on individual caloric needs, activity level, and weight management goals. A gluten-free diet isn't inherently lower in calories, so portion control is important if weight management is a goal. Gluten-Free Important Considerations: • Ensure adequate fiber intake, as many gluten-free alternatives are lower in fiber • Be mindful of potential nutritional deficiencies, especially if new to the diet • Some gluten-free products may be higher in sugar or fat; read labels carefully • Consider supplements if concerned about nutrient intake, especially B vitamins • Be cautious when dining out; always inform staff of gluten-free needs • Consult with a registered dietitian to ensure nutritional needs are met  \"),\n",
       " Document(metadata={'source': '../pdfs/ketogenic_internal_plan.pdf', 'page': 0}, page_content='Ketogenic Diet Nutrition Plan The Low-carb/Ketogenic diet is beneficial for: • Weight loss: Promotes rapid fat loss • Blood sugar control: Helps manage type 2 diabetes and insulin resistance • Improved mental clarity: Some report enhanced cognitive function • Reduced inflammation: May help with certain inflammatory conditions • Epilepsy management: Used therapeutically for some seizure disorders • Potential neuroprotective effects: Being studied for neurodegenerative diseases This diet is ideal for: • Individuals looking for rapid weight loss • People with type 2 diabetes or prediabetes • Those seeking to improve metabolic health • Individuals with certain neurological disorders • People who struggle with sugar cravings and overeating               '),\n",
       " Document(metadata={'source': '../pdfs/ketogenic_internal_plan.pdf', 'page': 1}, page_content='Detailed Meal Plan Ketogenic Breakfast Options:  a) Keto breakfast bowl: • 2 scrambled eggs • 1/4 avocado, sliced • 2 strips of bacon • 1/4 cup sautéed spinach • 1 tbsp butter for cooking b) Cream cheese pancakes: • 2 oz cream cheese • 2 eggs • 1/4 tsp cinnamon • 1 tbsp butter for cooking • Top with 2 tbsp sugar-free syrup c) Keto smoothie: • 1 cup unsweetened almond milk • 1/2 avocado • 1 tbsp almond butter • 1 scoop low-carb protein powder • 1 cup spinach • Ice cubes          '),\n",
       " Document(metadata={'source': '../pdfs/ketogenic_internal_plan.pdf', 'page': 2}, page_content='Ketogenic Lunch Options:  a) Cobb salad: • 2 cups mixed greens • 3 oz grilled chicken breast • 1 hard-boiled egg, sliced • 2 slices bacon, crumbled • 1/4 avocado, diced • 2 tbsp blue cheese crumbles • 2 tbsp high-fat dressing (ranch or blue cheese) b) Tuna salad lettuce wraps: • 4 oz canned tuna • 2 tbsp mayonnaise • 1 tbsp diced celery • 1 tsp dijon mustard • Salt and pepper to taste • Serve in 3-4 large lettuce leaves c) Zucchini noodles with meatballs: • 2 cups zucchini noodles • 3 oz ground beef meatballs (2-3 meatballs) • 1/4 cup low-carb marinara sauce • 2 tbsp grated parmesan cheese • 1 tbsp olive oil for cooking          '),\n",
       " Document(metadata={'source': '../pdfs/ketogenic_internal_plan.pdf', 'page': 3}, page_content='Ketogenic Dinner Options:  a) Baked salmon with asparagus: • 5 oz salmon fillet • 1 cup asparagus spears • 2 tbsp butter • Lemon wedge and dill for garnish • Season with salt and pepper b) Chicken fajita bowl: • 4 oz grilled chicken breast, sliced • 1/2 cup bell peppers and onions, sautéed • 1/4 cup guacamole • 2 tbsp sour cream • 1/4 cup shredded cheddar cheese • Serve over 1 cup cauliflower rice c) Beef and broccoli stir-fry: • 4 oz beef sirloin, sliced • 1 cup broccoli florets • 2 tbsp soy sauce (or coconut aminos for lower carb) • 1 tbsp sesame oil • 1 clove garlic, minced • Serve over 1/2 cup cauliflower rice          '),\n",
       " Document(metadata={'source': '../pdfs/ketogenic_internal_plan.pdf', 'page': 4}, page_content='Ketogenic Snack Options:  a) Cheese and meat roll-ups: • 2 slices of cheese • 2 slices of deli meat (turkey, ham, or roast beef) • Optional: add pickle spear or avocado slice b) Deviled eggs: • 2 hard-boiled eggs, halved • Yolks mixed with 1 tbsp mayonnaise and 1/2 tsp mustard c) Keto fat bombs: • 1 tbsp coconut oil • 1 tbsp almond butter • 1 tsp cocoa powder • Stevia to taste • Mix, freeze, and enjoy 2-3 small fat bombs d) Celery sticks with cream cheese: • 3-4 celery sticks • 2 tbsp full-fat cream cheese e) Handful of mixed nuts (1 oz): • Almonds, macadamia nuts, walnuts         '),\n",
       " Document(metadata={'source': '../pdfs/ketogenic_internal_plan.pdf', 'page': 5}, page_content='Ketogenic General Guidelines: • Limit carbohydrate intake to 20-50g per day (varies by individual) • Increase healthy fat intake to 70-80% of total calories • Maintain moderate protein intake (about 20-25% of calories) • Avoid all grains, sugar, and starchy vegetables • Stay hydrated and consider supplementing electrolytes • Monitor ketone levels if desired (through urine strips or blood meters) Ketogenic Weekly Meal Prep Tips: • Hard boil a dozen eggs for quick snacks and meals • Pre-cook chicken breasts or thighs for easy protein addition • Prepare mason jar salads for grab-and-go lunches • Make a large batch of cauliflower rice • Chop low-carb vegetables for quick stir-fries or snacks Adjusting Portion Sizes: Adjust portion sizes based on individual caloric needs, activity level, and weight loss goals. It\\'s crucial to maintain the correct macronutrient ratios (high fat, low carb, moderate protein) regardless of portion size. Ketogenic Important Considerations: • The initial transition to a ketogenic diet may cause \"keto flu\" symptoms • This diet may not be suitable for everyone, especially those with certain medical conditions • Regular monitoring by a healthcare professional is recommended, especially for those on medications  '),\n",
       " Document(metadata={'source': '../pdfs/mediterranean_internal_plan.pdf', 'page': 0}, page_content='Mediterranean Diet Nutrition Plan The Mediterranean diet is beneficial for: • Heart health: Reduces risk of cardiovascular diseases • Weight management: Promotes healthy weight loss and maintenance • Brain function: May improve cognitive function and reduce risk of neurodegenerative diseases • Diabetes management: Helps control blood sugar levels • Cancer prevention: May reduce risk of certain types of cancer • Longevity: Associated with increased lifespan This diet is ideal for: • Individuals looking to improve overall health • Those at risk of heart disease or stroke • People wanting to lose weight sustainably • Anyone interested in adopting a balanced, flavorful eating pattern               '),\n",
       " Document(metadata={'source': '../pdfs/mediterranean_internal_plan.pdf', 'page': 1}, page_content='Meal Plan Mediterranean Breakfast Options:  a) Greek yogurt parfait: • 1 cup Greek yogurt • 1/4 cup mixed berries • 1 tbsp honey • 2 tbsp chopped walnuts • Sprinkle of cinnamon b) Whole grain toast with avocado and egg: • 2 slices whole grain bread, toasted • 1/2 avocado, mashed • 2 poached eggs • Drizzle of extra virgin olive oil • Salt and pepper to taste c) Mediterranean breakfast bowl: • 1/2 cup cooked quinoa • 1/4 cup chickpeas • 1/4 cup diced cucumber • 1/4 cup diced tomatoes • 2 tbsp crumbled feta cheese • 1 tbsp chopped fresh herbs (parsley, mint) • Drizzle of lemon juice and olive oil         '),\n",
       " Document(metadata={'source': '../pdfs/mediterranean_internal_plan.pdf', 'page': 2}, page_content='Mediterranean Lunch Options:  a) Greek salad with grilled chicken: • 2 cups mixed greens • 3 oz grilled chicken breast • 1/4 cup diced cucumber • 1/4 cup diced tomatoes • 1/4 cup sliced red onion • 10 kalamata olives • 2 tbsp crumbled feta cheese • Dressing: 1 tbsp olive oil, 1 tsp red wine vinegar, oregano b) Mediterranean tuna wrap: • 1 whole wheat tortilla • 3 oz canned tuna in olive oil, drained • 1/4 cup diced bell peppers • 2 tbsp hummus • Handful of spinach leaves • 1 tbsp chopped sun-dried tomatoes c) Lentil and vegetable soup: • 1 cup cooked lentils • 1 cup mixed vegetables (carrots, celery, onions, tomatoes) • 2 cups vegetable broth • 1 tbsp olive oil • Herbs: bay leaf, thyme, rosemary • Serve with a slice of whole grain bread         '),\n",
       " Document(metadata={'source': '../pdfs/mediterranean_internal_plan.pdf', 'page': 3}, page_content='Mediterranean Dinner Options:  a) Baked salmon with roasted vegetables: • 4 oz baked salmon fillet • 1 cup mixed roasted vegetables (zucchini, bell peppers, eggplant) • 1/2 cup quinoa • 1 tbsp olive oil for roasting • Lemon wedge and fresh dill for garnish b) Mediterranean stuffed peppers: • 1 large bell pepper, halved and stuffed with: o 1/2 cup cooked brown rice o 1/4 cup cooked lentils o 2 tbsp chopped tomatoes o 1 tbsp chopped olives o 1 tbsp crumbled feta cheese • Bake until pepper is tender • Serve with a side salad of mixed greens and olive oil dressing c) Grilled vegetable and chicken skewers: • 3 oz chicken breast, cubed • 1 cup mixed vegetables for skewers (cherry tomatoes, zucchini, red onion) • 1 tbsp olive oil for brushing • Mediterranean spice mix (oregano, basil, garlic powder) • Serve with 1/2 cup tzatziki sauce and 1/2 cup tabbouleh          '),\n",
       " Document(metadata={'source': '../pdfs/mediterranean_internal_plan.pdf', 'page': 4}, page_content='Mediterranean Snack Options:  a) Fresh fruit with nuts: • 1 medium apple or pear • 10 almonds or walnuts b) Vegetable sticks with hummus: • 1 cup mixed vegetable sticks (carrots, cucumbers, bell peppers) • 2 tbsp homemade or store-bought hummus c) Greek yogurt with honey: • 1/2 cup Greek yogurt • 1 tsp honey • Sprinkle of cinnamon d) Olive tapenade with whole grain crackers: • 2 tbsp olive tapenade • 5-6 whole grain crackers e) Handful of mixed olives            '),\n",
       " Document(metadata={'source': '../pdfs/mediterranean_internal_plan.pdf', 'page': 5}, page_content='Mediterranean General Guidelines: • Use extra virgin olive oil as the primary source of added fat • Consume fish and poultry at least twice a week • Limit red meat to no more than a few times per month • Enjoy fresh fruits as dessert instead of sugary sweets • Drink red wine in moderation (optional, and only for those who already drink alcohol) • Stay hydrated with water as the primary beverage Mediterranean Weekly Meal Prep Tips: • Prepare large batches of whole grains and legumes • Chop vegetables in advance for quick salads and cooking • Make homemade hummus and tzatziki sauce for the week • Marinate chicken or fish for easy grilling throughout the week Adjusting Portion Sizes: Adjust portion sizes based on individual caloric needs, activity level, and weight management goals. Consult with a registered dietitian for personalized advice.  '),\n",
       " Document(metadata={'source': '../pdfs/vegan_internal_plan.pdf', 'page': 0}, page_content='Vegan Diet Nutrition Plan The Vegan diet is beneficial for: • Environmental sustainability: Reduces carbon footprint • Animal welfare: Eliminates animal product consumption • Heart health: May lower risk of heart disease • Weight management: Often leads to lower BMI • Reduced cancer risk: May lower risk of certain cancers • Blood sugar control: Can help manage type 2 diabetes • Improved digestion: High fiber content aids digestive health This diet is ideal for: • Environmentally conscious individuals • Those concerned with animal rights • People looking to reduce risk of certain chronic diseases • Individuals seeking to increase plant food consumption • Those with lactose intolerance or dairy allergies • Anyone interested in exploring diverse plant-based cuisine              '),\n",
       " Document(metadata={'source': '../pdfs/vegan_internal_plan.pdf', 'page': 1}, page_content='Vegan Breakfast Options:  a) Tofu scramble: • 1/2 block firm tofu, crumbled • 1/4 cup mixed vegetables (bell peppers, onions, spinach) • 1 tbsp nutritional yeast • 1/4 tsp turmeric • Salt and pepper to taste • Serve with 1 slice whole grain toast b) Overnight oats: • 1/2 cup rolled oats • 3/4 cup plant-based milk (almond, soy, oat) • 1 tbsp chia seeds • 1 tbsp maple syrup • 1/4 cup mixed berries • 1 tbsp chopped nuts c) Vegan breakfast smoothie: • 1 banana • 1 cup spinach • 1 tbsp almond butter • 1 scoop vegan protein powder • 1 cup plant-based milk • 1/2 tsp cinnamon          '),\n",
       " Document(metadata={'source': '../pdfs/vegan_internal_plan.pdf', 'page': 2}, page_content='Vegan Lunch Options:  a) Chickpea salad sandwich: • 1/2 cup mashed chickpeas • 1 tbsp vegan mayonnaise • 1 tsp dijon mustard • 1 tbsp diced celery • 1 tbsp diced red onion • Serve on 2 slices whole grain bread with lettuce and tomato b) Quinoa buddha bowl: • 1/2 cup cooked quinoa • 1/4 cup roasted chickpeas • 1/2 cup mixed roasted vegetables (sweet potato, broccoli, carrots) • 1/4 avocado, sliced • 2 tbsp hummus • Handful of spinach • 1 tbsp tahini dressing c) Lentil and vegetable soup: • 1/2 cup cooked lentils • 1 cup mixed vegetables (carrots, celery, onions, tomatoes) • 2 cups vegetable broth • 1 tbsp olive oil • Herbs: bay leaf, thyme, rosemary • Serve with a slice of whole grain bread         '),\n",
       " Document(metadata={'source': '../pdfs/vegan_internal_plan.pdf', 'page': 3}, page_content='Vegan Dinner Options:  a) Stir-fried tofu and vegetables: • 4 oz firm tofu, cubed • 1 cup mixed vegetables (broccoli, snap peas, carrots) • 1 tbsp soy sauce or tamari • 1 tsp sesame oil • 1 clove garlic, minced • Serve over 1/2 cup brown rice b) Vegan chili: • 1/2 cup mixed beans (black beans, kidney beans) • 1/4 cup textured vegetable protein (TVP) or crumbled tempeh • 1/2 cup diced tomatoes • 1/4 cup diced onions and peppers • Chili spices (cumin, paprika, chili powder) • Top with vegan sour cream and chopped cilantro c) Whole wheat pasta primavera: • 1 cup whole wheat pasta • 1 cup mixed vegetables (zucchini, cherry tomatoes, asparagus) • 2 tbsp olive oil • 1 clove garlic, minced • 2 tbsp nutritional yeast • Fresh basil for garnish          '),\n",
       " Document(metadata={'source': '../pdfs/vegan_internal_plan.pdf', 'page': 4}, page_content='Vegan Snack Options:  a) Fresh fruit with nut butter: • 1 apple or banana • 1 tbsp almond or peanut butter b) Vegetable sticks with hummus: • 1 cup mixed vegetable sticks (carrots, cucumbers, bell peppers) • 2 tbsp hummus c) Trail mix: • 1/4 cup mixed nuts (almonds, walnuts, cashews) • 2 tbsp dried fruits (raisins, goji berries) • 1 tbsp pumpkin seeds d) Roasted chickpeas: • 1/4 cup roasted chickpeas seasoned with spices e) Vegan yogurt parfait: • 1/2 cup plant-based yogurt • 2 tbsp granola • 1/4 cup mixed berries          '),\n",
       " Document(metadata={'source': '../pdfs/vegan_internal_plan.pdf', 'page': 5}, page_content=\"Vegan General Guidelines: • Focus on whole, plant-based foods • Ensure adequate protein intake through legumes, tofu, tempeh, and plant-based protein powders • Include a variety of fruits and vegetables for diverse nutrient intake • Incorporate whole grains for fiber and B vitamins • Use healthy fats from sources like avocados, nuts, and seeds • Consider supplements for vitamin B12, vitamin D, and omega-3 fatty acids Vegan Weekly Meal Prep Tips: • Cook large batches of grains and legumes • Prepare homemade hummus and plant-based dressings • Chop vegetables for quick stir-fries and salads • Make a big pot of vegan soup or chili for the week • Prepare overnight oats in jars for easy breakfasts Adjusting Portion Sizes: Adjust portion sizes based on individual caloric needs, activity level, and weight management goals. Vegan diets can be adapted for weight loss or gain by adjusting portion sizes and the ratio of higher-calorie foods (nuts, seeds, avocados) to lower-calorie options (leafy greens, non-starchy vegetables). Vegan Important Considerations: • Pay attention to vitamin B12 intake, as it's not naturally present in plant foods • Ensure adequate calcium intake through fortified plant milks and leafy greens • Consider iron supplementation, especially for menstruating individuals • Combine iron-rich foods with vitamin C sources for better absorption • Consult with a registered dietitian to ensure all nutritional needs are met  \")]"
      ]
     },
     "execution_count": 1,
     "metadata": {},
     "output_type": "execute_result"
    }
   ],
   "source": [
    "from langchain_community.document_loaders import PyPDFLoader\n",
    "import os\n",
    "\n",
    "\n",
    "# loop through PDFs and load them with PyPDFLoader\n",
    "file_path = \"../pdfs\"\n",
    "docs = []\n",
    "for file in os.listdir(file_path):\n",
    "    if file.endswith('.pdf'):\n",
    "        pdf_path = os.path.join(file_path, file)\n",
    "        loader = PyPDFLoader(pdf_path)\n",
    "        docs.extend(loader.load())\n",
    "\n",
    "docs"
   ]
  },
  {
   "cell_type": "code",
   "execution_count": 2,
   "metadata": {},
   "outputs": [
    {
     "data": {
      "text/plain": [
       "'Paleo Lunch Options:  a) Grilled chicken salad: • 4 oz grilled chicken breast • 2 cups mixed greens • 1/4 cup sliced cucumbers • 1/4 cup cherry tomatoes • 1/4 avocado, diced • 2 tbsp pumpkin seeds • Dressing: 1 tbsp olive oil, 1 tsp lemon juice, herbs b) Tuna lettuce wraps: • 4 oz canned tuna (in water) • 1 tbsp paleo-friendly mayonnaise • 1 tbsp diced celery • 1 tbsp diced red onion • 1 tsp dijon mustard • Serve in 3-4 large lettuce leaves c) Beef and vegetable stir-fry: • 4 oz grass-fed beef strips • 1 cup mixed vegetables (broccoli, carrots, snap peas) • 1 tbsp coconut aminos • 1 tbsp coconut oil for cooking • 1 clove garlic, minced • Serve over cauliflower rice         '"
      ]
     },
     "execution_count": 2,
     "metadata": {},
     "output_type": "execute_result"
    }
   ],
   "source": [
    "# inspect the content of a document\n",
    "docs[2].page_content"
   ]
  },
  {
   "cell_type": "code",
   "execution_count": 3,
   "metadata": {},
   "outputs": [],
   "source": [
    "from langchain.text_splitter import RecursiveCharacterTextSplitter\n",
    "\n",
    "# split documents into smaller chunks\n",
    "splitter = RecursiveCharacterTextSplitter(chunk_size=800, chunk_overlap=0)\n",
    "\n",
    "chunked_docs = splitter.split_documents(docs)"
   ]
  },
  {
   "cell_type": "code",
   "execution_count": 4,
   "metadata": {},
   "outputs": [
    {
     "data": {
      "text/plain": [
       "Document(metadata={'source': '../pdfs/paleo_internal_plan.pdf', 'page': 1}, page_content='Paleo Breakfast Options:  a) Paleo breakfast bowl: • 2 eggs, fried or poached • 1/4 avocado, sliced • 1/2 cup sautéed mixed vegetables (spinach, mushrooms, bell peppers) • 2 slices of bacon (uncured, no added nitrates) • 1/4 cup berries on the side b) Sweet potato hash: • 1 small sweet potato, diced and roasted • 3 oz ground turkey or chicken, seasoned and cooked • 1/4 cup diced onions • 1/4 cup diced bell peppers • 1 tbsp coconut oil for cooking • Herbs: rosemary, thyme c) Paleo smoothie: • 1 cup unsweetened almond milk • 1/2 banana • 1 tbsp almond butter • 1 scoop paleo-friendly protein powder • 1 cup spinach • 1/2 cup mixed berries • Ice cubes')"
      ]
     },
     "execution_count": 4,
     "metadata": {},
     "output_type": "execute_result"
    }
   ],
   "source": [
    "# inspect a chunk\n",
    "chunked_docs[2]"
   ]
  },
  {
   "cell_type": "code",
   "execution_count": 5,
   "metadata": {},
   "outputs": [
    {
     "name": "stderr",
     "output_type": "stream",
     "text": [
      "/Users/rickchakra/Projects/aiug_workshop/venv/lib/python3.9/site-packages/langchain_core/_api/deprecation.py:139: LangChainDeprecationWarning: The class `HuggingFaceEmbeddings` was deprecated in LangChain 0.2.2 and will be removed in 0.3.0. An updated version of the class exists in the langchain-huggingface package and should be used instead. To use it run `pip install -U langchain-huggingface` and import as `from langchain_huggingface import HuggingFaceEmbeddings`.\n",
      "  warn_deprecated(\n",
      "/Users/rickchakra/Projects/aiug_workshop/venv/lib/python3.9/site-packages/sentence_transformers/cross_encoder/CrossEncoder.py:11: TqdmExperimentalWarning: Using `tqdm.autonotebook.tqdm` in notebook mode. Use `tqdm.tqdm` instead to force console mode (e.g. in jupyter console)\n",
      "  from tqdm.autonotebook import tqdm, trange\n"
     ]
    }
   ],
   "source": [
    "from langchain.vectorstores import FAISS\n",
    "from langchain.embeddings import HuggingFaceEmbeddings\n",
    "\n",
    "# initialize vectorstore with FAISS and HuggingFace embeddings\n",
    "db = FAISS.from_documents(chunked_docs, HuggingFaceEmbeddings(model_name=\"BAAI/bge-base-en-v1.5\"))"
   ]
  },
  {
   "cell_type": "code",
   "execution_count": 11,
   "metadata": {},
   "outputs": [],
   "source": [
    "# create a retriever using the vectorstore\n",
    "retriever = db.as_retriever(search_type=\"similarity\", search_kwargs={\"k\": 1})"
   ]
  },
  {
   "cell_type": "code",
   "execution_count": 12,
   "metadata": {},
   "outputs": [
    {
     "name": "stdout",
     "output_type": "stream",
     "text": [
      "1\n",
      "[Document(metadata={'source': '../pdfs/paleo_internal_plan.pdf', 'page': 1}, page_content='Paleo Breakfast Options:  a) Paleo breakfast bowl: • 2 eggs, fried or poached • 1/4 avocado, sliced • 1/2 cup sautéed mixed vegetables (spinach, mushrooms, bell peppers) • 2 slices of bacon (uncured, no added nitrates) • 1/4 cup berries on the side b) Sweet potato hash: • 1 small sweet potato, diced and roasted • 3 oz ground turkey or chicken, seasoned and cooked • 1/4 cup diced onions • 1/4 cup diced bell peppers • 1 tbsp coconut oil for cooking • Herbs: rosemary, thyme c) Paleo smoothie: • 1 cup unsweetened almond milk • 1/2 banana • 1 tbsp almond butter • 1 scoop paleo-friendly protein powder • 1 cup spinach • 1/2 cup mixed berries • Ice cubes')]\n"
     ]
    }
   ],
   "source": [
    "# test the retriever\n",
    "test = retriever.invoke('Paleo Breakfast')\n",
    "print(len(test))\n",
    "\n",
    "print(test)"
   ]
  },
  {
   "cell_type": "code",
   "execution_count": 13,
   "metadata": {},
   "outputs": [],
   "source": [
    "import torch\n",
    "from transformers import AutoTokenizer, AutoModelForCausalLM, BitsAndBytesConfig\n",
    "\n",
    "model_name =\"TinyLlama/TinyLlama-1.1B-Chat-v1.0\"\n",
    "\n",
    "save_directory = \"model_directory\"\n",
    "\n",
    "# directly load model since we saved it in the previous notebook\n",
    "model = AutoModelForCausalLM.from_pretrained(save_directory)\n",
    "tokenizer = AutoTokenizer.from_pretrained(save_directory)"
   ]
  },
  {
   "cell_type": "code",
   "execution_count": 14,
   "metadata": {},
   "outputs": [
    {
     "name": "stderr",
     "output_type": "stream",
     "text": [
      "Hardware accelerator e.g. GPU is available in the environment, but no `device` argument is passed to the `Pipeline` object. Model will be on CPU.\n",
      "/Users/rickchakra/Projects/aiug_workshop/venv/lib/python3.9/site-packages/langchain_core/_api/deprecation.py:139: LangChainDeprecationWarning: The class `HuggingFacePipeline` was deprecated in LangChain 0.0.37 and will be removed in 0.3. An updated version of the class exists in the langchain-huggingface package and should be used instead. To use it run `pip install -U langchain-huggingface` and import as `from langchain_huggingface import HuggingFacePipeline`.\n",
      "  warn_deprecated(\n"
     ]
    }
   ],
   "source": [
    "from langchain.llms import HuggingFacePipeline\n",
    "from langchain.prompts import PromptTemplate\n",
    "from transformers import pipeline\n",
    "from langchain_core.output_parsers import StrOutputParser\n",
    "\n",
    "# create a text generation pipeline\n",
    "text_generation_pipeline = pipeline(\n",
    "    model=model,\n",
    "    tokenizer=tokenizer,\n",
    "    task=\"text-generation\",\n",
    "    temperature=0.2,\n",
    "    do_sample=True,\n",
    "    repetition_penalty=1.1,\n",
    "    return_full_text=True,\n",
    "    max_new_tokens=400,\n",
    ")\n",
    "\n",
    "llm = HuggingFacePipeline(pipeline=text_generation_pipeline)\n",
    "\n",
    "prompt_template = \"\"\"\n",
    "<|system|>\n",
    "Answer the question based on your knowledge. Use the following context to help:\n",
    "\n",
    "{context}\n",
    "\n",
    "</s>\n",
    "<|user|>\n",
    "{question}\n",
    "</s>\n",
    "<|assistant|>\n",
    "\n",
    " \"\"\"\n",
    "\n",
    "prompt = PromptTemplate(\n",
    "    input_variables=[\"context\", \"question\"],\n",
    "    template=prompt_template,\n",
    ")\n",
    "\n",
    "llm_chain = prompt | llm | StrOutputParser()"
   ]
  },
  {
   "cell_type": "code",
   "execution_count": 15,
   "metadata": {},
   "outputs": [],
   "source": [
    "from langchain_core.runnables import RunnablePassthrough\n",
    "\n",
    "# extend llm chain with RAG\n",
    "rag_chain = {\"context\": retriever, \"question\": RunnablePassthrough()} | llm_chain"
   ]
  },
  {
   "cell_type": "code",
   "execution_count": 16,
   "metadata": {},
   "outputs": [],
   "source": [
    "question = \"What are some ketogenic breakfast options?\""
   ]
  },
  {
   "cell_type": "code",
   "execution_count": 17,
   "metadata": {},
   "outputs": [
    {
     "data": {
      "text/plain": [
       "\"\\n<|system|>\\nAnswer the question based on your knowledge. Use the following context to help:\\n\\n\\n\\n</s>\\n<|user|>\\nWhat are some ketogenic breakfast options?\\n</s>\\n<|assistant|>\\n\\n 1. Greek yogurt with berries and granola: This is a great option for a protein-packed breakfast that's also low in carbs. Greek yogurt is high in protein, while berries provide fiber and antioxidants. Top it off with granola for added crunch and flavor.\\n\\n2. Smoothie: Blend together frozen berries, almond milk, spinach, and a scoop of protein powder or Greek yogurt for a nutrient-dense breakfast that's easy to make.\\n\\n3. Overnight oats: Mix rolled oats, almond milk, chia seeds, and your choice of toppings (such as nuts, dried fruit, and honey) in a jar and let it sit in the fridge overnight. In the morning, top with fresh fruit and enjoy a satisfying and filling breakfast.\\n\\n4. Avocado toast: Toast a slice of whole grain bread and spread mashed avocado on top. Add sliced tomatoes, red onions, and a sprinkle of salt and pepper for extra flavor.\\n\\n5. Protein smoothie bowl: Blend together frozen banana, almond milk, protein powder, and your choice of toppings (such as granola, nuts, and berries) for a nutritious and delicious breakfast.\\n\\n6. Breakfast burrito: Layer cooked black beans, salsa, shredded cheese, and a fried egg on a tortilla. Roll up and enjoy a filling and healthy breakfast.\\n\\n7. Quinoa bowl: Cook quinoa according to package instructions and top with roasted sweet potato, sautéed kale, and a fried egg. Serve with a side of\""
      ]
     },
     "execution_count": 17,
     "metadata": {},
     "output_type": "execute_result"
    }
   ],
   "source": [
    "# invoke LLM chain for baseline response\n",
    "result = llm_chain.invoke({\"context\": \"\", \"question\": question})\n",
    "\n",
    "result"
   ]
  },
  {
   "cell_type": "code",
   "execution_count": 18,
   "metadata": {},
   "outputs": [
    {
     "data": {
      "text/plain": [
       "\"\\n<|system|>\\nAnswer the question based on your knowledge. Use the following context to help:\\n\\n[Document(metadata={'source': '../pdfs/ketogenic_internal_plan.pdf', 'page': 1}, page_content='Detailed Meal Plan Ketogenic Breakfast Options:  a) Keto breakfast bowl: • 2 scrambled eggs • 1/4 avocado, sliced • 2 strips of bacon • 1/4 cup sautéed spinach • 1 tbsp butter for cooking b) Cream cheese pancakes: • 2 oz cream cheese • 2 eggs • 1/4 tsp cinnamon • 1 tbsp butter for cooking • Top with 2 tbsp sugar-free syrup c) Keto smoothie: • 1 cup unsweetened almond milk • 1/2 avocado • 1 tbsp almond butter • 1 scoop low-carb protein powder • 1 cup spinach • Ice cubes')]\\n\\n</s>\\n<|user|>\\nWhat are some ketogenic breakfast options?\\n</s>\\n<|assistant|>\\n\\n 1. Keto breakfast bowl:\\n    - 2 scrambled eggs\\n    - 1/4 avocado, sliced\\n    - 2 strips of bacon\\n    - 1/4 cup sautéed spinach\\n    - 1 tablespoon butter for cooking\\n\\n2. Cream cheese pancakes:\\n    - 2 oz cream cheese\\n    - 2 eggs\\n    - 1/4 tsp cinnamon\\n    - 1 tablespoon butter for cooking\\n    - 2 tablespoons sugar-free syrup\\n\\n3. Keto smoothie:\\n    - 1 cup unsweetened almond milk\\n    - 1/2 avocado\\n    - 1 tbsp almond butter\\n    - 1 scoop low-carb protein powder\\n    - 1 cup spinach\\n    - Ice cubes\\n\\nRemember that the key to a successful ketogenic diet is to eat plenty of healthy fats and lean proteins, while limiting carbohydrates and sugars. These breakfast options provide a variety of nutrients and flavors that can help you start your day off right!\""
      ]
     },
     "execution_count": 18,
     "metadata": {},
     "output_type": "execute_result"
    }
   ],
   "source": [
    "# invoke RAG chain for response based on knowledge base\n",
    "result = rag_chain.invoke(question)\n",
    "\n",
    "result"
   ]
  },
  {
   "cell_type": "code",
   "execution_count": 19,
   "metadata": {},
   "outputs": [
    {
     "name": "stdout",
     "output_type": "stream",
     "text": [
      "('\\n'\n",
      " '<|system|>\\n'\n",
      " 'Answer the question based on your knowledge. Use the following context to '\n",
      " 'help:\\n'\n",
      " '\\n'\n",
      " \"[Document(metadata={'source': '../pdfs/ketogenic_internal_plan.pdf', 'page': \"\n",
      " \"1}, page_content='Detailed Meal Plan Ketogenic Breakfast Options:  a) Keto \"\n",
      " 'breakfast bowl: • 2 scrambled eggs • 1/4 avocado, sliced • 2 strips of bacon '\n",
      " '• 1/4 cup sautéed spinach • 1 tbsp butter for cooking b) Cream cheese '\n",
      " 'pancakes: • 2 oz cream cheese • 2 eggs • 1/4 tsp cinnamon • 1 tbsp butter '\n",
      " 'for cooking • Top with 2 tbsp sugar-free syrup c) Keto smoothie: • 1 cup '\n",
      " 'unsweetened almond milk • 1/2 avocado • 1 tbsp almond butter • 1 scoop '\n",
      " \"low-carb protein powder • 1 cup spinach • Ice cubes')]\\n\"\n",
      " '\\n'\n",
      " '</s>\\n'\n",
      " '<|user|>\\n'\n",
      " 'What are some ketogenic breakfast options?\\n'\n",
      " '</s>\\n'\n",
      " '<|assistant|>\\n'\n",
      " '\\n'\n",
      " ' 1. Keto breakfast bowl:\\n'\n",
      " '    - 2 scrambled eggs\\n'\n",
      " '    - 1/4 avocado, sliced\\n'\n",
      " '    - 2 strips of bacon\\n'\n",
      " '    - 1/4 cup sautéed spinach\\n'\n",
      " '    - 1 tablespoon butter for cooking\\n'\n",
      " '\\n'\n",
      " '2. Cream cheese pancakes:\\n'\n",
      " '    - 2 oz cream cheese\\n'\n",
      " '    - 2 eggs\\n'\n",
      " '    - 1/4 tsp cinnamon\\n'\n",
      " '    - 1 tablespoon butter for cooking\\n'\n",
      " '    - 2 tablespoons sugar-free syrup\\n'\n",
      " '\\n'\n",
      " '3. Keto smoothie:\\n'\n",
      " '    - 1 cup unsweetened almond milk\\n'\n",
      " '    - 1/2 avocado\\n'\n",
      " '    - 1 tbsp almond butter\\n'\n",
      " '    - 1 scoop low-carb protein powder\\n'\n",
      " '    - 1 cup spinach\\n'\n",
      " '    - Ice cubes\\n'\n",
      " '\\n'\n",
      " 'Remember that the key to a successful ketogenic diet is to eat plenty of '\n",
      " 'healthy fats and lean proteins, while limiting carbohydrates and sugars. '\n",
      " 'These breakfast options provide a variety of nutrients and flavors that can '\n",
      " 'help you start your day off right!')\n"
     ]
    }
   ],
   "source": [
    "from pprint import pprint\n",
    "\n",
    "pprint(result)"
   ]
  }
 ],
 "metadata": {
  "kernelspec": {
   "display_name": "venv",
   "language": "python",
   "name": "python3"
  },
  "language_info": {
   "codemirror_mode": {
    "name": "ipython",
    "version": 3
   },
   "file_extension": ".py",
   "mimetype": "text/x-python",
   "name": "python",
   "nbconvert_exporter": "python",
   "pygments_lexer": "ipython3",
   "version": "3.9.6"
  }
 },
 "nbformat": 4,
 "nbformat_minor": 2
}
